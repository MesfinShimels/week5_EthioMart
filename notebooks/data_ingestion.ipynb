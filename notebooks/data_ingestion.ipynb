{
 "cells": [
  {
   "cell_type": "code",
   "execution_count": null,
   "metadata": {},
   "outputs": [],
   "source": [
    "# Data Ingestion Notebook\n",
    "\n",
    "# Import required libraries\n",
    "import os\n",
    "import json\n",
    "from scripts.scraper import scrape_channel  # Assuming scripts are in PYTHONPATH\n",
    "\n",
    "# Set up parameters\n",
    "CHANNELS = [\"@example_channel1\", \"@example_channel2\"]  # Replace with actual channel names\n",
    "OUTPUT_DIR = \"data/raw/\"\n",
    "os.makedirs(OUTPUT_DIR, exist_ok=True)\n",
    "\n"
   ]
  },
  {
   "cell_type": "code",
   "execution_count": null,
   "metadata": {},
   "outputs": [],
   "source": [
    "# Run scraper for each channel\n",
    "for channel in CHANNELS:\n",
    "    output_file = os.path.join(OUTPUT_DIR, f\"{channel.strip('@')}_messages.json\")\n",
    "    print(f\"Scraping {channel}...\")\n",
    "    # Assuming scrape_channel is updated to be synchronous for this use\n",
    "    await scrape_channel(channel, output_file)\n",
    "\n",
    "\n"
   ]
  },
  {
   "cell_type": "code",
   "execution_count": null,
   "metadata": {},
   "outputs": [],
   "source": [
    "# Load and inspect data\n",
    "raw_file = os.path.join(OUTPUT_DIR, f\"{CHANNELS[0].strip('@')}_messages.json\")\n",
    "with open(raw_file, \"r\", encoding=\"utf-8\") as f:\n",
    "    messages = json.load(f)\n",
    "\n",
    "# Display first few messages\n",
    "for message in messages[:5]:\n",
    "    print(message)"
   ]
  }
 ],
 "metadata": {
  "kernelspec": {
   "display_name": ".venv",
   "language": "python",
   "name": "python3"
  },
  "language_info": {
   "name": "python",
   "version": "3.12.8"
  }
 },
 "nbformat": 4,
 "nbformat_minor": 2
}
